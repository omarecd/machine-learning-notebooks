{
 "cells": [
  {
   "cell_type": "markdown",
   "id": "72818fef",
   "metadata": {},
   "source": [
    "## 0. Introduction\n",
    "In this exercise, I will explore the classic Wine dataset from scikit-learn. My goal is to analyze its features and apply machine learning techniques—such as classification with K-Nearest Neighbors (KNN)—to better understand the dataset and practice core ML concepts."
   ]
  }
 ],
 "metadata": {
  "language_info": {
   "name": "python"
  }
 },
 "nbformat": 4,
 "nbformat_minor": 5
}
