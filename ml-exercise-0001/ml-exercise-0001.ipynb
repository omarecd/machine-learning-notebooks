{
 "cells": [
  {
   "cell_type": "markdown",
   "id": "35e11b72",
   "metadata": {},
   "source": [
    "🔹 Cell 1: Data Preparation"
   ]
  },
  {
   "cell_type": "code",
   "execution_count": null,
   "id": "7d845a57",
   "metadata": {},
   "outputs": [],
   "source": [
    "# Import necessary libraries\n",
    "import pandas as pd\n",
    "\n",
    "# Load the dataset\n",
    "file_path = '/Users/omarcruz/Downloads/sensor_status_data.csv'\n",
    "df = pd.read_csv(file_path)\n",
    "\n",
    "# Display basic info\n",
    "df.info()\n",
    "df.head()"
   ]
  },
  {
   "cell_type": "markdown",
   "id": "ef67f51d",
   "metadata": {},
   "source": [
    "🔹 Cell 2: Label Encoding / Feature Selection"
   ]
  },
  {
   "cell_type": "code",
   "execution_count": null,
   "id": "62aa24c5",
   "metadata": {},
   "outputs": [],
   "source": [
    "from sklearn.preprocessing import LabelEncoder\n",
    "\n",
    "# Encode target labels\n",
    "encoder = LabelEncoder()\n",
    "y = encoder.fit_transform(df[\"status\"])\n",
    "print(encoder.classes_)  # ['critical', 'normal', 'warning']\n",
    "\n",
    "# Select features (X)\n",
    "X = df[[\"temperature\", \"humidity\", \"vibration\"]]"
   ]
  },
  {
   "cell_type": "markdown",
   "id": "634542e2",
   "metadata": {},
   "source": [
    "🔹 Cell 3: Model Training (Train/Test Split + Fit)"
   ]
  },
  {
   "cell_type": "code",
   "execution_count": null,
   "id": "72256b68",
   "metadata": {},
   "outputs": [],
   "source": [
    "from sklearn.model_selection import train_test_split\n",
    "from sklearn.neighbors import KNeighborsClassifier\n",
    "\n",
    "# Train-test split\n",
    "X_train, X_test, y_train, y_test = train_test_split(\n",
    "    X, y, test_size=0.2, random_state=42, stratify=y)\n",
    "\n",
    "# Train the KNN classifier\n",
    "knn = KNeighborsClassifier(n_neighbors=3)\n",
    "knn.fit(X_train, y_train)"
   ]
  },
  {
   "cell_type": "markdown",
   "id": "e60b8b45",
   "metadata": {},
   "source": [
    "🔹 Cell 4: Evaluation"
   ]
  },
  {
   "cell_type": "code",
   "execution_count": null,
   "id": "3db885b1",
   "metadata": {},
   "outputs": [],
   "source": [
    "from sklearn.metrics import accuracy_score, confusion_matrix, ConfusionMatrixDisplay\n",
    "\n",
    "# Make predictions and evaluate\n",
    "y_pred = knn.predict(X_test)\n",
    "print(\"Accuracy:\", accuracy_score(y_test, y_pred))\n",
    "\n",
    "# Confusion matrix\n",
    "ConfusionMatrixDisplay.from_predictions(y_test, y_pred, display_labels=encoder.classes_)"
   ]
  }
 ],
 "metadata": {
  "kernelspec": {
   "display_name": ".venv",
   "language": "python",
   "name": "python3"
  },
  "language_info": {
   "codemirror_mode": {
    "name": "ipython",
    "version": 3
   },
   "file_extension": ".py",
   "mimetype": "text/x-python",
   "name": "python",
   "nbconvert_exporter": "python",
   "pygments_lexer": "ipython3",
   "version": "3.9.6"
  }
 },
 "nbformat": 4,
 "nbformat_minor": 5
}
