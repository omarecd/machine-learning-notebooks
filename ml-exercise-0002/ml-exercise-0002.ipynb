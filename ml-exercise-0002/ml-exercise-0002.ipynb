{
 "cells": [
  {
   "cell_type": "markdown",
   "id": "35e11b72",
   "metadata": {},
   "source": [
    "In this notebook, I’ll explore the famous Iris dataset as part of my machine learning learning journey.\n",
    "First, I’ll analyze the dataset to understand its features and structure. Then, I’ll apply a K-Nearest Neighbors (KNN) classification model to practice core ML concepts and evaluate the model’s performance."
   ]
  }
 ],
 "metadata": {
  "kernelspec": {
   "display_name": ".venv",
   "language": "python",
   "name": "python3"
  },
  "language_info": {
   "codemirror_mode": {
    "name": "ipython",
    "version": 3
   },
   "file_extension": ".py",
   "mimetype": "text/x-python",
   "name": "python",
   "nbconvert_exporter": "python",
   "pygments_lexer": "ipython3",
   "version": "3.9.6"
  }
 },
 "nbformat": 4,
 "nbformat_minor": 5
}
