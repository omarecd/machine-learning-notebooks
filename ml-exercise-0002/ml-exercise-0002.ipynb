{
 "cells": [
  {
   "cell_type": "markdown",
   "id": "35e11b72",
   "metadata": {},
   "source": [
    "## 0. Introduction\n",
    "In this notebook, I’ll explore the famous Iris dataset as part of my machine learning learning journey.\n",
    "First, I’ll analyze the dataset to understand its features and structure. Then, I’ll apply a K-Nearest Neighbors (KNN) classification model to practice core ML concepts and evaluate the model’s performance."
   ]
  },
  {
   "cell_type": "markdown",
   "id": "eb0063ea",
   "metadata": {},
   "source": [
    "## 1. Load Data"
   ]
  },
  {
   "cell_type": "markdown",
   "id": "379bc5c3",
   "metadata": {},
   "source": [
    "## 2. Split Data"
   ]
  },
  {
   "cell_type": "markdown",
   "id": "7f1a789e",
   "metadata": {},
   "source": [
    "## 3. Train Model"
   ]
  },
  {
   "cell_type": "markdown",
   "id": "088f5556",
   "metadata": {},
   "source": [
    "## 4. Predict"
   ]
  },
  {
   "cell_type": "markdown",
   "id": "b8b23722",
   "metadata": {},
   "source": [
    "## 5. Evaluate"
   ]
  },
  {
   "cell_type": "markdown",
   "id": "8c09342a",
   "metadata": {},
   "source": [
    "## 6. Visualize Results"
   ]
  },
  {
   "cell_type": "markdown",
   "id": "682ab9b7",
   "metadata": {},
   "source": [
    "## 7. Test on New Input"
   ]
  }
 ],
 "metadata": {
  "kernelspec": {
   "display_name": ".venv",
   "language": "python",
   "name": "python3"
  },
  "language_info": {
   "codemirror_mode": {
    "name": "ipython",
    "version": 3
   },
   "file_extension": ".py",
   "mimetype": "text/x-python",
   "name": "python",
   "nbconvert_exporter": "python",
   "pygments_lexer": "ipython3",
   "version": "3.9.6"
  }
 },
 "nbformat": 4,
 "nbformat_minor": 5
}
